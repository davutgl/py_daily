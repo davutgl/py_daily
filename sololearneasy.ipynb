{
 "cells": [
  {
   "cell_type": "code",
   "execution_count": 17,
   "id": "5e26e34e-e9d0-4ecc-b6ba-05e4d4ff490f",
   "metadata": {
    "tags": []
   },
   "outputs": [
    {
     "name": "stdin",
     "output_type": "stream",
     "text": [
      "Enter price in dollars:  100\n",
      "Enter price in pesos:  4000\n"
     ]
    },
    {
     "name": "stdout",
     "output_type": "stream",
     "text": [
      "Pesos\n"
     ]
    }
   ],
   "source": [
    "dollars = int(input(\"Enter price in dollars: \"))\n",
    "pesos = int(input(\"Enter price in pesos: \"))\n",
    "cents = dollars * 100\n",
    "peso = int((2 * cents)/100)\n",
    "if cents > peso:\n",
    "    print(\"Pesos\")\n",
    "else:\n",
    "    print(\"Dollars\")\n",
    "\n",
    "# print(cents)\n",
    "# print(peso)"
   ]
  },
  {
   "cell_type": "code",
   "execution_count": null,
   "id": "b31b60c9-2272-4385-85fc-eb5537f3d927",
   "metadata": {},
   "outputs": [],
   "source": []
  },
  {
   "cell_type": "code",
   "execution_count": null,
   "id": "6660ba73-8449-4c77-a948-c966c45c91c8",
   "metadata": {},
   "outputs": [],
   "source": []
  },
  {
   "cell_type": "code",
   "execution_count": null,
   "id": "7219a61e-7b35-4736-ab66-9f2932d1e78a",
   "metadata": {},
   "outputs": [],
   "source": []
  }
 ],
 "metadata": {
  "kernelspec": {
   "display_name": "Python 3 (ipykernel)",
   "language": "python",
   "name": "python3"
  },
  "language_info": {
   "codemirror_mode": {
    "name": "ipython",
    "version": 3
   },
   "file_extension": ".py",
   "mimetype": "text/x-python",
   "name": "python",
   "nbconvert_exporter": "python",
   "pygments_lexer": "ipython3",
   "version": "3.11.3"
  }
 },
 "nbformat": 4,
 "nbformat_minor": 5
}
