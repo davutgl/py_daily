{
 "cells": [
  {
   "cell_type": "code",
   "execution_count": 1,
   "id": "5e26e34e-e9d0-4ecc-b6ba-05e4d4ff490f",
   "metadata": {
    "tags": []
   },
   "outputs": [
    {
     "name": "stdin",
     "output_type": "stream",
     "text": [
      "Enter price in dollars:  100\n",
      "Enter price in pesos:  4000\n"
     ]
    },
    {
     "name": "stdout",
     "output_type": "stream",
     "text": [
      "Pesos\n",
      "10000\n",
      "200\n"
     ]
    }
   ],
   "source": [
    "dollars = int(input(\"Enter price in dollars: \"))\n",
    "pesos = int(input(\"Enter price in pesos: \"))\n",
    "cents = dollars * 100\n",
    "peso = int((2 * cents)/100)\n",
    "if cents > peso:\n",
    "    print(\"Pesos\")\n",
    "else:\n",
    "    print(\"Dollars\")\n",
    "\n",
    "print(cents)\n",
    "print(peso)"
   ]
  },
  {
   "cell_type": "code",
   "execution_count": 20,
   "id": "b31b60c9-2272-4385-85fc-eb5537f3d927",
   "metadata": {},
   "outputs": [
    {
     "name": "stdin",
     "output_type": "stream",
     "text": [
      "Enter number of criminals:  3\n"
     ]
    },
    {
     "name": "stdout",
     "output_type": "stream",
     "text": [
      "I got this.\n"
     ]
    }
   ],
   "source": [
    "criminals = int(input(\"Enter number of criminals: \"))\n",
    "if criminals < 5:\n",
    "    print(\"I got this.\")\n",
    "elif criminals >= 5 and criminals < 10:\n",
    "    print(\"Help me Batman.\")\n",
    "else:\n",
    "    print(\"Goodluck out there.\")"
   ]
  },
  {
   "cell_type": "code",
   "execution_count": 42,
   "id": "6660ba73-8449-4c77-a948-c966c45c91c8",
   "metadata": {},
   "outputs": [
    {
     "name": "stdin",
     "output_type": "stream",
     "text": [
      "Enter number of hovercrafts sold:  7\n"
     ]
    },
    {
     "name": "stdout",
     "output_type": "stream",
     "text": [
      "Broke even\n"
     ]
    }
   ],
   "source": [
    "sold = int(input(\"Enter number of hovercrafts sold: \"))\n",
    "cost = 2000000\n",
    "total_cost = 21000000\n",
    "sale = 3000000\n",
    "insurance = 1000000\n",
    "profit = ((sale * sold) - total_cost)\n",
    "if profit < 0:\n",
    "    print(\"Loss\")\n",
    "elif profit > 0:\n",
    "    print(\"Profit\")\n",
    "else:\n",
    "    print(\"Broke even\") "
   ]
  },
  {
   "cell_type": "code",
   "execution_count": 51,
   "id": "7219a61e-7b35-4736-ab66-9f2932d1e78a",
   "metadata": {},
   "outputs": [
    {
     "name": "stdin",
     "output_type": "stream",
     "text": [
      "Enter the length of the list:  9\n",
      " 1\n",
      " 2\n",
      " 3\n",
      " 4\n",
      " 5\n",
      " 6\n",
      " 7\n",
      " 8\n",
      " 9\n"
     ]
    },
    {
     "name": "stdout",
     "output_type": "stream",
     "text": [
      "[1, 2, 3, 4, 5, 6, 7, 8, 9]\n",
      "20\n"
     ]
    }
   ],
   "source": [
    "# num_list = len(list())\n",
    "list_len = int(input(\"Enter the length of the list: \"))\n",
    "i = 0\n",
    "num_list = []\n",
    "while i < list_len:\n",
    "    num = int(input())\n",
    "    num_list.append(num)\n",
    "    i+=1\n",
    "# print(num_list)\n",
    "total = 0\n",
    "for j in num_list:\n",
    "    if j % 2 == 0:\n",
    "        total+=j\n",
    "        \n",
    "print(total)\n",
    "\n"
   ]
  },
  {
   "cell_type": "code",
   "execution_count": null,
   "id": "5a4d2c41-99d4-417b-bc82-d11f4267cded",
   "metadata": {},
   "outputs": [],
   "source": []
  }
 ],
 "metadata": {
  "kernelspec": {
   "display_name": "Python 3 (ipykernel)",
   "language": "python",
   "name": "python3"
  },
  "language_info": {
   "codemirror_mode": {
    "name": "ipython",
    "version": 3
   },
   "file_extension": ".py",
   "mimetype": "text/x-python",
   "name": "python",
   "nbconvert_exporter": "python",
   "pygments_lexer": "ipython3",
   "version": "3.11.3"
  }
 },
 "nbformat": 4,
 "nbformat_minor": 5
}
