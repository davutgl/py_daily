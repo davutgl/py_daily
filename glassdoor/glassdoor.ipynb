{
 "cells": [
  {
   "cell_type": "markdown",
   "id": "2a880356-abb8-438f-bc60-cc7c303e6243",
   "metadata": {},
   "source": []
  },
  {
   "cell_type": "code",
   "execution_count": 79,
   "id": "bfa73d83-295e-4022-a7d2-9317a3a6eb4d",
   "metadata": {},
   "outputs": [],
   "source": [
    "import pandas as pd\n",
    "import numpy as np\n",
    "import seaborn as sns\n",
    "import matplotlib.pyplot as plt"
   ]
  },
  {
   "cell_type": "code",
   "execution_count": 80,
   "id": "e008e19a-f302-4472-b25c-d7341a1dc122",
   "metadata": {
    "tags": []
   },
   "outputs": [],
   "source": [
    "df = pd.read_csv(\"Uncleaned_DS_jobs.csv\")"
   ]
  },
  {
   "cell_type": "code",
   "execution_count": 114,
   "id": "2a220ede-0bb5-4f2a-b075-a1ce1325da3f",
   "metadata": {
    "tags": []
   },
   "outputs": [
    {
     "name": "stdout",
     "output_type": "stream",
     "text": [
      "<class 'pandas.core.frame.DataFrame'>\n",
      "RangeIndex: 672 entries, 0 to 671\n",
      "Data columns (total 18 columns):\n",
      " #   Column               Non-Null Count  Dtype  \n",
      "---  ------               --------------  -----  \n",
      " 0   Job Title            672 non-null    object \n",
      " 1   Salary Estimate (K)  672 non-null    object \n",
      " 2   Job Description      672 non-null    object \n",
      " 3   Rating               672 non-null    float64\n",
      " 4   Company Name         672 non-null    object \n",
      " 5   Location             672 non-null    object \n",
      " 6   Headquarters         641 non-null    object \n",
      " 7   Size                 645 non-null    object \n",
      " 8   Founded              672 non-null    int64  \n",
      " 9   Type of ownership    645 non-null    object \n",
      " 10  Industry             601 non-null    object \n",
      " 11  Sector               601 non-null    object \n",
      " 12  Revenue              432 non-null    object \n",
      " 13  Competitors          171 non-null    object \n",
      " 14  Company_age          672 non-null    int64  \n",
      " 15  Min Salary (K)       672 non-null    int64  \n",
      " 16  Max Salary (K)       672 non-null    int64  \n",
      " 17  Avg Salary (K)       672 non-null    int32  \n",
      "dtypes: float64(1), int32(1), int64(4), object(12)\n",
      "memory usage: 92.0+ KB\n"
     ]
    }
   ],
   "source": [
    "df.info()"
   ]
  },
  {
   "cell_type": "code",
   "execution_count": 115,
   "id": "af70850e-9f39-48f1-96a9-84b07e3ec0b8",
   "metadata": {
    "tags": []
   },
   "outputs": [
    {
     "data": {
      "text/html": [
       "<div>\n",
       "<style scoped>\n",
       "    .dataframe tbody tr th:only-of-type {\n",
       "        vertical-align: middle;\n",
       "    }\n",
       "\n",
       "    .dataframe tbody tr th {\n",
       "        vertical-align: top;\n",
       "    }\n",
       "\n",
       "    .dataframe thead th {\n",
       "        text-align: right;\n",
       "    }\n",
       "</style>\n",
       "<table border=\"1\" class=\"dataframe\">\n",
       "  <thead>\n",
       "    <tr style=\"text-align: right;\">\n",
       "      <th></th>\n",
       "      <th>Job Title</th>\n",
       "      <th>Salary Estimate (K)</th>\n",
       "      <th>Job Description</th>\n",
       "      <th>Rating</th>\n",
       "      <th>Company Name</th>\n",
       "      <th>Location</th>\n",
       "      <th>Headquarters</th>\n",
       "      <th>Size</th>\n",
       "      <th>Founded</th>\n",
       "      <th>Type of ownership</th>\n",
       "      <th>Industry</th>\n",
       "      <th>Sector</th>\n",
       "      <th>Revenue</th>\n",
       "      <th>Competitors</th>\n",
       "      <th>Company_age</th>\n",
       "      <th>Min Salary (K)</th>\n",
       "      <th>Max Salary (K)</th>\n",
       "      <th>Avg Salary (K)</th>\n",
       "    </tr>\n",
       "  </thead>\n",
       "  <tbody>\n",
       "    <tr>\n",
       "      <th>0</th>\n",
       "      <td>Sr Data Scientist</td>\n",
       "      <td>137-171</td>\n",
       "      <td>DescriptionThe Senior Data Scientist is respon...</td>\n",
       "      <td>3.1</td>\n",
       "      <td>Healthfirst</td>\n",
       "      <td>New York, NY</td>\n",
       "      <td>New York, NY</td>\n",
       "      <td>1001 to 5000 employees</td>\n",
       "      <td>1993</td>\n",
       "      <td>Nonprofit Organization</td>\n",
       "      <td>Insurance Carriers</td>\n",
       "      <td>Insurance</td>\n",
       "      <td>&lt;NA&gt;</td>\n",
       "      <td>EmblemHealth, UnitedHealth Group, Aetna</td>\n",
       "      <td>31</td>\n",
       "      <td>137</td>\n",
       "      <td>171</td>\n",
       "      <td>154</td>\n",
       "    </tr>\n",
       "    <tr>\n",
       "      <th>1</th>\n",
       "      <td>Data Scientist</td>\n",
       "      <td>137-171</td>\n",
       "      <td>Secure our Nation, Ignite your FutureJoin the ...</td>\n",
       "      <td>4.2</td>\n",
       "      <td>ManTech</td>\n",
       "      <td>Chantilly, VA</td>\n",
       "      <td>Herndon, VA</td>\n",
       "      <td>5001 to 10000 employees</td>\n",
       "      <td>1968</td>\n",
       "      <td>Company - Public</td>\n",
       "      <td>Research &amp; Development</td>\n",
       "      <td>Business Services</td>\n",
       "      <td>$1 to $2 billion (USD)</td>\n",
       "      <td>&lt;NA&gt;</td>\n",
       "      <td>56</td>\n",
       "      <td>137</td>\n",
       "      <td>171</td>\n",
       "      <td>154</td>\n",
       "    </tr>\n",
       "    <tr>\n",
       "      <th>2</th>\n",
       "      <td>Data Scientist</td>\n",
       "      <td>137-171</td>\n",
       "      <td>OverviewAnalysis Group is one of the largest i...</td>\n",
       "      <td>3.8</td>\n",
       "      <td>Analysis Group</td>\n",
       "      <td>Boston, MA</td>\n",
       "      <td>Boston, MA</td>\n",
       "      <td>1001 to 5000 employees</td>\n",
       "      <td>1981</td>\n",
       "      <td>Private Practice / Firm</td>\n",
       "      <td>Consulting</td>\n",
       "      <td>Business Services</td>\n",
       "      <td>$100 to $500 million (USD)</td>\n",
       "      <td>&lt;NA&gt;</td>\n",
       "      <td>43</td>\n",
       "      <td>137</td>\n",
       "      <td>171</td>\n",
       "      <td>154</td>\n",
       "    </tr>\n",
       "  </tbody>\n",
       "</table>\n",
       "</div>"
      ],
      "text/plain": [
       "           Job Title Salary Estimate (K)  \\\n",
       "0  Sr Data Scientist             137-171   \n",
       "1     Data Scientist             137-171   \n",
       "2     Data Scientist             137-171   \n",
       "\n",
       "                                     Job Description  Rating    Company Name  \\\n",
       "0  DescriptionThe Senior Data Scientist is respon...     3.1     Healthfirst   \n",
       "1  Secure our Nation, Ignite your FutureJoin the ...     4.2         ManTech   \n",
       "2  OverviewAnalysis Group is one of the largest i...     3.8  Analysis Group   \n",
       "\n",
       "        Location  Headquarters                     Size  Founded  \\\n",
       "0   New York, NY  New York, NY   1001 to 5000 employees     1993   \n",
       "1  Chantilly, VA   Herndon, VA  5001 to 10000 employees     1968   \n",
       "2     Boston, MA    Boston, MA   1001 to 5000 employees     1981   \n",
       "\n",
       "         Type of ownership                Industry             Sector  \\\n",
       "0   Nonprofit Organization      Insurance Carriers          Insurance   \n",
       "1         Company - Public  Research & Development  Business Services   \n",
       "2  Private Practice / Firm              Consulting  Business Services   \n",
       "\n",
       "                      Revenue                              Competitors  \\\n",
       "0                        <NA>  EmblemHealth, UnitedHealth Group, Aetna   \n",
       "1      $1 to $2 billion (USD)                                     <NA>   \n",
       "2  $100 to $500 million (USD)                                     <NA>   \n",
       "\n",
       "   Company_age  Min Salary (K)  Max Salary (K)  Avg Salary (K)  \n",
       "0           31             137             171             154  \n",
       "1           56             137             171             154  \n",
       "2           43             137             171             154  "
      ]
     },
     "execution_count": 115,
     "metadata": {},
     "output_type": "execute_result"
    }
   ],
   "source": [
    "df.head(3)"
   ]
  },
  {
   "cell_type": "code",
   "execution_count": 83,
   "id": "f9cc1171-c9cd-43b5-b5ea-91b5a2910d86",
   "metadata": {
    "tags": []
   },
   "outputs": [
    {
     "data": {
      "text/html": [
       "<div>\n",
       "<style scoped>\n",
       "    .dataframe tbody tr th:only-of-type {\n",
       "        vertical-align: middle;\n",
       "    }\n",
       "\n",
       "    .dataframe tbody tr th {\n",
       "        vertical-align: top;\n",
       "    }\n",
       "\n",
       "    .dataframe thead th {\n",
       "        text-align: right;\n",
       "    }\n",
       "</style>\n",
       "<table border=\"1\" class=\"dataframe\">\n",
       "  <thead>\n",
       "    <tr style=\"text-align: right;\">\n",
       "      <th></th>\n",
       "      <th>index</th>\n",
       "      <th>Rating</th>\n",
       "      <th>Founded</th>\n",
       "    </tr>\n",
       "  </thead>\n",
       "  <tbody>\n",
       "    <tr>\n",
       "      <th>count</th>\n",
       "      <td>672.000000</td>\n",
       "      <td>672.000000</td>\n",
       "      <td>672.000000</td>\n",
       "    </tr>\n",
       "    <tr>\n",
       "      <th>mean</th>\n",
       "      <td>335.500000</td>\n",
       "      <td>3.518601</td>\n",
       "      <td>1635.529762</td>\n",
       "    </tr>\n",
       "    <tr>\n",
       "      <th>std</th>\n",
       "      <td>194.133974</td>\n",
       "      <td>1.410329</td>\n",
       "      <td>756.746640</td>\n",
       "    </tr>\n",
       "    <tr>\n",
       "      <th>min</th>\n",
       "      <td>0.000000</td>\n",
       "      <td>-1.000000</td>\n",
       "      <td>-1.000000</td>\n",
       "    </tr>\n",
       "    <tr>\n",
       "      <th>25%</th>\n",
       "      <td>167.750000</td>\n",
       "      <td>3.300000</td>\n",
       "      <td>1917.750000</td>\n",
       "    </tr>\n",
       "    <tr>\n",
       "      <th>50%</th>\n",
       "      <td>335.500000</td>\n",
       "      <td>3.800000</td>\n",
       "      <td>1995.000000</td>\n",
       "    </tr>\n",
       "    <tr>\n",
       "      <th>75%</th>\n",
       "      <td>503.250000</td>\n",
       "      <td>4.300000</td>\n",
       "      <td>2009.000000</td>\n",
       "    </tr>\n",
       "    <tr>\n",
       "      <th>max</th>\n",
       "      <td>671.000000</td>\n",
       "      <td>5.000000</td>\n",
       "      <td>2019.000000</td>\n",
       "    </tr>\n",
       "  </tbody>\n",
       "</table>\n",
       "</div>"
      ],
      "text/plain": [
       "            index      Rating      Founded\n",
       "count  672.000000  672.000000   672.000000\n",
       "mean   335.500000    3.518601  1635.529762\n",
       "std    194.133974    1.410329   756.746640\n",
       "min      0.000000   -1.000000    -1.000000\n",
       "25%    167.750000    3.300000  1917.750000\n",
       "50%    335.500000    3.800000  1995.000000\n",
       "75%    503.250000    4.300000  2009.000000\n",
       "max    671.000000    5.000000  2019.000000"
      ]
     },
     "execution_count": 83,
     "metadata": {},
     "output_type": "execute_result"
    }
   ],
   "source": [
    "df.describe()"
   ]
  },
  {
   "cell_type": "code",
   "execution_count": 84,
   "id": "f18b3ae5-2037-4d9f-ac13-9a3bf047abd3",
   "metadata": {
    "tags": []
   },
   "outputs": [
    {
     "data": {
      "text/plain": [
       "index                0\n",
       "Job Title            0\n",
       "Salary Estimate      0\n",
       "Job Description      0\n",
       "Rating               0\n",
       "Company Name         0\n",
       "Location             0\n",
       "Headquarters         0\n",
       "Size                 0\n",
       "Founded              0\n",
       "Type of ownership    0\n",
       "Industry             0\n",
       "Sector               0\n",
       "Revenue              0\n",
       "Competitors          0\n",
       "dtype: int64"
      ]
     },
     "execution_count": 84,
     "metadata": {},
     "output_type": "execute_result"
    }
   ],
   "source": [
    "# checking for any missing values in all the columns\n",
    "df.isnull().sum()"
   ]
  },
  {
   "cell_type": "markdown",
   "id": "63571f33-c669-4434-b12e-873617961616",
   "metadata": {},
   "source": [
    "Transforming the data in the Salary estimate column."
   ]
  },
  {
   "cell_type": "code",
   "execution_count": 85,
   "id": "55d1a885-3bd1-479f-9516-41ca222333d0",
   "metadata": {
    "tags": []
   },
   "outputs": [
    {
     "data": {
      "text/plain": [
       "array(['$137K-$171K (Glassdoor est.)', '$75K-$131K (Glassdoor est.)',\n",
       "       '$79K-$131K (Glassdoor est.)', '$99K-$132K (Glassdoor est.)',\n",
       "       '$90K-$109K (Glassdoor est.)', '$101K-$165K (Glassdoor est.)',\n",
       "       '$56K-$97K (Glassdoor est.)', '$79K-$106K (Glassdoor est.)',\n",
       "       '$71K-$123K (Glassdoor est.)', '$90K-$124K (Glassdoor est.)',\n",
       "       '$91K-$150K (Glassdoor est.)', '$141K-$225K (Glassdoor est.)',\n",
       "       '$145K-$225K(Employer est.)', '$79K-$147K (Glassdoor est.)',\n",
       "       '$122K-$146K (Glassdoor est.)', '$112K-$116K (Glassdoor est.)',\n",
       "       '$110K-$163K (Glassdoor est.)', '$124K-$198K (Glassdoor est.)',\n",
       "       '$79K-$133K (Glassdoor est.)', '$69K-$116K (Glassdoor est.)',\n",
       "       '$31K-$56K (Glassdoor est.)', '$95K-$119K (Glassdoor est.)',\n",
       "       '$212K-$331K (Glassdoor est.)', '$66K-$112K (Glassdoor est.)',\n",
       "       '$128K-$201K (Glassdoor est.)', '$138K-$158K (Glassdoor est.)',\n",
       "       '$80K-$132K (Glassdoor est.)', '$87K-$141K (Glassdoor est.)',\n",
       "       '$92K-$155K (Glassdoor est.)', '$105K-$167K (Glassdoor est.)'],\n",
       "      dtype=object)"
      ]
     },
     "execution_count": 85,
     "metadata": {},
     "output_type": "execute_result"
    }
   ],
   "source": [
    "df['Salary Estimate'].unique()"
   ]
  },
  {
   "cell_type": "code",
   "execution_count": 86,
   "id": "68205e8b-1977-4a13-8d41-c6d831789394",
   "metadata": {
    "tags": []
   },
   "outputs": [],
   "source": [
    "# replacing $, K, and (Glassdoor est.)\n",
    "df['Salary Estimate'] = df['Salary Estimate'].replace({'\\$' : '', 'K' : '', ' \\(Glassdoor est.\\)' : '', '\\(Employer est.\\)' : ''}, regex = True)"
   ]
  },
  {
   "cell_type": "code",
   "execution_count": 87,
   "id": "aa818ff8-53b5-4c19-9f17-a95df2f618bc",
   "metadata": {
    "tags": []
   },
   "outputs": [
    {
     "data": {
      "text/plain": [
       "array(['137-171', '75-131', '79-131', '99-132', '90-109', '101-165',\n",
       "       '56-97', '79-106', '71-123', '90-124', '91-150', '141-225',\n",
       "       '145-225', '79-147', '122-146', '112-116', '110-163', '124-198',\n",
       "       '79-133', '69-116', '31-56', '95-119', '212-331', '66-112',\n",
       "       '128-201', '138-158', '80-132', '87-141', '92-155', '105-167'],\n",
       "      dtype=object)"
      ]
     },
     "execution_count": 87,
     "metadata": {},
     "output_type": "execute_result"
    }
   ],
   "source": [
    "df['Salary Estimate'].unique()"
   ]
  },
  {
   "cell_type": "code",
   "execution_count": 88,
   "id": "dddaf3bb-5959-4e9a-b8da-c4c6377d8116",
   "metadata": {
    "tags": []
   },
   "outputs": [],
   "source": [
    "df.rename(columns = {'Salary Estimate' : 'Salary Estimate (K)'}, inplace=True)"
   ]
  },
  {
   "cell_type": "markdown",
   "id": "fdb13081-8dd0-4e23-9002-a90f35d9e66c",
   "metadata": {},
   "source": [
    "Transforming columns with newline characters"
   ]
  },
  {
   "cell_type": "code",
   "execution_count": 89,
   "id": "d14c51f4-4d62-400f-bd81-8968fa0b14c0",
   "metadata": {
    "tags": []
   },
   "outputs": [
    {
     "data": {
      "text/plain": [
       "['Job Description', 'Company Name']"
      ]
     },
     "execution_count": 89,
     "metadata": {},
     "output_type": "execute_result"
    }
   ],
   "source": [
    "col_with_newlines = []\n",
    "for col in df.columns:\n",
    "    if df[col].astype(str).str.contains('\\n').any():\n",
    "        col_with_newlines.append(col)\n",
    "col_with_newlines"
   ]
  },
  {
   "cell_type": "code",
   "execution_count": 90,
   "id": "e946127d-949c-4fea-85f8-bc95ba546460",
   "metadata": {
    "tags": []
   },
   "outputs": [],
   "source": [
    "df['Company Name'] =df['Company Name'].replace({r'\\n': ''}, regex=True)"
   ]
  },
  {
   "cell_type": "code",
   "execution_count": 91,
   "id": "7a7a25b7-3449-4615-adb7-e5abc392873e",
   "metadata": {
    "tags": []
   },
   "outputs": [
    {
     "data": {
      "text/plain": [
       "0           Healthfirst3.1\n",
       "1               ManTech4.2\n",
       "2        Analysis Group3.8\n",
       "3               INFICON3.5\n",
       "4    Affinity Solutions2.9\n",
       "Name: Company Name, dtype: object"
      ]
     },
     "execution_count": 91,
     "metadata": {},
     "output_type": "execute_result"
    }
   ],
   "source": [
    "df['Company Name'].head()"
   ]
  },
  {
   "cell_type": "code",
   "execution_count": 103,
   "id": "dc19e789-dbc2-424c-8546-80450d9b993c",
   "metadata": {
    "tags": []
   },
   "outputs": [],
   "source": [
    "# remove rating attached to company name \n",
    "df['Company Name'] = df['Company Name'].str[:-3]"
   ]
  },
  {
   "cell_type": "code",
   "execution_count": 104,
   "id": "092ff2ac-7943-40d5-b7ba-e7e19bada0b2",
   "metadata": {
    "collapsed": true,
    "jupyter": {
     "outputs_hidden": true
    },
    "tags": []
   },
   "outputs": [
    {
     "data": {
      "text/plain": [
       "3.5    58\n",
       "0.0    50\n",
       "4.0    41\n",
       "3.3    41\n",
       "3.9    40\n",
       "3.8    39\n",
       "3.7    38\n",
       "5.0    36\n",
       "4.5    32\n",
       "3.6    31\n",
       "3.4    31\n",
       "4.2    29\n",
       "4.1    25\n",
       "4.4    24\n",
       "4.7    22\n",
       "3.2    21\n",
       "4.8    20\n",
       "4.3    14\n",
       "2.9    14\n",
       "4.6    12\n",
       "3.1    12\n",
       "4.9    11\n",
       "2.7    10\n",
       "3.0     7\n",
       "2.6     4\n",
       "2.8     3\n",
       "2.5     2\n",
       "2.2     1\n",
       "2.4     1\n",
       "2.3     1\n",
       "2.1     1\n",
       "2.0     1\n",
       "Name: Rating, dtype: int64"
      ]
     },
     "execution_count": 104,
     "metadata": {},
     "output_type": "execute_result"
    }
   ],
   "source": [
    "df['Rating'].value_counts()"
   ]
  },
  {
   "cell_type": "code",
   "execution_count": 94,
   "id": "2f2054fc-a048-40c9-a771-15f107cdfed5",
   "metadata": {
    "tags": []
   },
   "outputs": [],
   "source": [
    "df['Rating'] = df['Rating'].apply(lambda x: 0 if x<0 else x)"
   ]
  },
  {
   "cell_type": "code",
   "execution_count": 95,
   "id": "bd7f8ba2-4f5f-4bfc-9820-cffdf7181fc1",
   "metadata": {
    "tags": []
   },
   "outputs": [],
   "source": [
    "df['Job Description'] = df['Job Description'].replace({r'\\n' : ''}, regex=True)"
   ]
  },
  {
   "cell_type": "code",
   "execution_count": 96,
   "id": "65c0a5d1-94b6-436a-9ee6-73b70ce87290",
   "metadata": {
    "tags": []
   },
   "outputs": [],
   "source": [
    "df.drop(['index'], axis = 1, inplace=True)"
   ]
  },
  {
   "cell_type": "code",
   "execution_count": 97,
   "id": "ee483652-4a92-4894-996e-34d4b25b8263",
   "metadata": {},
   "outputs": [],
   "source": [
    "cat_col = []\n",
    "for i in df.columns:\n",
    "    if df[i].dtype =='object':\n",
    "        cat_col.append(i)"
   ]
  },
  {
   "cell_type": "code",
   "execution_count": 98,
   "id": "c1f6794a-9e05-444d-a505-43ee8eac0b1a",
   "metadata": {
    "tags": []
   },
   "outputs": [
    {
     "data": {
      "text/plain": [
       "['Job Title',\n",
       " 'Salary Estimate (K)',\n",
       " 'Job Description',\n",
       " 'Company Name',\n",
       " 'Location',\n",
       " 'Headquarters',\n",
       " 'Size',\n",
       " 'Type of ownership',\n",
       " 'Industry',\n",
       " 'Sector',\n",
       " 'Revenue',\n",
       " 'Competitors']"
      ]
     },
     "execution_count": 98,
     "metadata": {},
     "output_type": "execute_result"
    }
   ],
   "source": [
    "cat_col"
   ]
  },
  {
   "cell_type": "code",
   "execution_count": 99,
   "id": "b046cd89-b0b4-4f32-a38a-a2ea8cb9d059",
   "metadata": {
    "tags": []
   },
   "outputs": [
    {
     "data": {
      "text/plain": [
       "100                                         -1\n",
       "101                                         -1\n",
       "102                                         -1\n",
       "103                                         -1\n",
       "104                  Square, PayPal, H&R Block\n",
       "105                                         -1\n",
       "106                                         -1\n",
       "107                                         -1\n",
       "108                                         -1\n",
       "109    Booz Allen Hamilton, CACI International\n",
       "Name: Competitors, dtype: object"
      ]
     },
     "execution_count": 99,
     "metadata": {},
     "output_type": "execute_result"
    }
   ],
   "source": [
    "df.iloc[100:110]['Competitors']"
   ]
  },
  {
   "cell_type": "code",
   "execution_count": 100,
   "id": "8ab9e829-db34-49a4-940b-10bb221c3497",
   "metadata": {
    "tags": []
   },
   "outputs": [
    {
     "data": {
      "text/plain": [
       "array(['Unknown / Non-Applicable', '$1 to $2 billion (USD)',\n",
       "       '$100 to $500 million (USD)', '$10+ billion (USD)',\n",
       "       '$2 to $5 billion (USD)', '$500 million to $1 billion (USD)',\n",
       "       '$5 to $10 billion (USD)', '$10 to $25 million (USD)',\n",
       "       '$25 to $50 million (USD)', '$50 to $100 million (USD)',\n",
       "       '$1 to $5 million (USD)', '$5 to $10 million (USD)',\n",
       "       'Less than $1 million (USD)', '-1'], dtype=object)"
      ]
     },
     "execution_count": 100,
     "metadata": {},
     "output_type": "execute_result"
    }
   ],
   "source": [
    "df[cat_col]['Revenue'].unique()"
   ]
  },
  {
   "cell_type": "code",
   "execution_count": 101,
   "id": "3660dc82-2a0e-4637-9bea-996d03c92b3d",
   "metadata": {
    "tags": []
   },
   "outputs": [],
   "source": [
    "df[cat_col] = df[cat_col].replace(['-1'], pd.NA)\n",
    "df[cat_col] = df[cat_col].replace(['Unknown / Non-Applicable'], pd.NA)"
   ]
  },
  {
   "cell_type": "code",
   "execution_count": 102,
   "id": "60c844ae-7bff-453f-b5e3-6c1b583521b9",
   "metadata": {
    "tags": []
   },
   "outputs": [],
   "source": [
    "df['Company_age'] = df['Founded'].map(lambda x:2024 - x if x > 0 else 0 )"
   ]
  },
  {
   "cell_type": "code",
   "execution_count": 105,
   "id": "6449ddc9-0465-4415-b3d9-4b9f29374b2d",
   "metadata": {
    "tags": []
   },
   "outputs": [
    {
     "data": {
      "text/plain": [
       "0      31\n",
       "1      56\n",
       "2      43\n",
       "3      24\n",
       "4      26\n",
       "       ..\n",
       "667    35\n",
       "668     0\n",
       "669     0\n",
       "670     0\n",
       "671    48\n",
       "Name: Company_age, Length: 672, dtype: int64"
      ]
     },
     "execution_count": 105,
     "metadata": {},
     "output_type": "execute_result"
    }
   ],
   "source": [
    "df['Company_age']"
   ]
  },
  {
   "cell_type": "code",
   "execution_count": 106,
   "id": "f2bdd099-e0fe-4a85-a3ff-4177279d6bfa",
   "metadata": {
    "tags": []
   },
   "outputs": [],
   "source": [
    "df[['Min Salary (K)', 'Max Salary (K)']] = df['Salary Estimate (K)'].str.split('-', expand=True)"
   ]
  },
  {
   "cell_type": "code",
   "execution_count": 107,
   "id": "939ccc52-5b63-4382-b2a0-de87da08447d",
   "metadata": {
    "tags": []
   },
   "outputs": [],
   "source": [
    "df['Max Salary (K)'] = pd.to_numeric(df['Max Salary (K)'])\n",
    "df['Min Salary (K)'] = pd.to_numeric(df['Min Salary (K)'])"
   ]
  },
  {
   "cell_type": "code",
   "execution_count": 113,
   "id": "079bbd33-ff79-4eac-a9d6-b32e7de0f672",
   "metadata": {
    "tags": []
   },
   "outputs": [],
   "source": [
    "df['Avg Salary (K)'] = ((df['Max Salary (K)'] + df['Min Salary (K)']) / 2).astype(int)"
   ]
  },
  {
   "cell_type": "code",
   "execution_count": 118,
   "id": "93acc66a-07ff-4592-94f8-40ecd5be1c7b",
   "metadata": {
    "tags": []
   },
   "outputs": [],
   "source": [
    "# df['Avg Salary (K)'].isnull()"
   ]
  },
  {
   "cell_type": "code",
   "execution_count": null,
   "id": "22aa91d8-b7b7-49c7-9a51-86a1b94951ef",
   "metadata": {},
   "outputs": [],
   "source": [
    "# keywords in description\n",
    "keywords = [ \"python\", \"machine learning\", \"sql\", \"excel\", \"hadoop\", \"r\", \"spark\", \"aws\", \"tableau\", \"power bi\", \"big data\"]\n"
   ]
  }
 ],
 "metadata": {
  "kernelspec": {
   "display_name": "Python 3 (ipykernel)",
   "language": "python",
   "name": "python3"
  },
  "language_info": {
   "codemirror_mode": {
    "name": "ipython",
    "version": 3
   },
   "file_extension": ".py",
   "mimetype": "text/x-python",
   "name": "python",
   "nbconvert_exporter": "python",
   "pygments_lexer": "ipython3",
   "version": "3.11.3"
  }
 },
 "nbformat": 4,
 "nbformat_minor": 5
}
