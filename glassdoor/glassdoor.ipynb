{
 "cells": [
  {
   "cell_type": "markdown",
   "id": "2a880356-abb8-438f-bc60-cc7c303e6243",
   "metadata": {},
   "source": []
  },
  {
   "cell_type": "code",
   "execution_count": 1,
   "id": "bfa73d83-295e-4022-a7d2-9317a3a6eb4d",
   "metadata": {},
   "outputs": [],
   "source": [
    "import pandas as pd\n",
    "import numpy as np\n",
    "import seaborn as sns\n",
    "import matplotlib.pyplot as plt"
   ]
  },
  {
   "cell_type": "code",
   "execution_count": 2,
   "id": "e008e19a-f302-4472-b25c-d7341a1dc122",
   "metadata": {
    "tags": []
   },
   "outputs": [],
   "source": [
    "df = pd.read_csv(\"Uncleaned_DS_jobs.csv\")"
   ]
  },
  {
   "cell_type": "code",
   "execution_count": 3,
   "id": "2a220ede-0bb5-4f2a-b075-a1ce1325da3f",
   "metadata": {
    "tags": []
   },
   "outputs": [
    {
     "name": "stdout",
     "output_type": "stream",
     "text": [
      "<class 'pandas.core.frame.DataFrame'>\n",
      "RangeIndex: 672 entries, 0 to 671\n",
      "Data columns (total 15 columns):\n",
      " #   Column             Non-Null Count  Dtype  \n",
      "---  ------             --------------  -----  \n",
      " 0   index              672 non-null    int64  \n",
      " 1   Job Title          672 non-null    object \n",
      " 2   Salary Estimate    672 non-null    object \n",
      " 3   Job Description    672 non-null    object \n",
      " 4   Rating             672 non-null    float64\n",
      " 5   Company Name       672 non-null    object \n",
      " 6   Location           672 non-null    object \n",
      " 7   Headquarters       672 non-null    object \n",
      " 8   Size               672 non-null    object \n",
      " 9   Founded            672 non-null    int64  \n",
      " 10  Type of ownership  672 non-null    object \n",
      " 11  Industry           672 non-null    object \n",
      " 12  Sector             672 non-null    object \n",
      " 13  Revenue            672 non-null    object \n",
      " 14  Competitors        672 non-null    object \n",
      "dtypes: float64(1), int64(2), object(12)\n",
      "memory usage: 78.9+ KB\n"
     ]
    }
   ],
   "source": [
    "df.info()"
   ]
  },
  {
   "cell_type": "code",
   "execution_count": 31,
   "id": "af70850e-9f39-48f1-96a9-84b07e3ec0b8",
   "metadata": {
    "tags": []
   },
   "outputs": [
    {
     "data": {
      "text/html": [
       "<div>\n",
       "<style scoped>\n",
       "    .dataframe tbody tr th:only-of-type {\n",
       "        vertical-align: middle;\n",
       "    }\n",
       "\n",
       "    .dataframe tbody tr th {\n",
       "        vertical-align: top;\n",
       "    }\n",
       "\n",
       "    .dataframe thead th {\n",
       "        text-align: right;\n",
       "    }\n",
       "</style>\n",
       "<table border=\"1\" class=\"dataframe\">\n",
       "  <thead>\n",
       "    <tr style=\"text-align: right;\">\n",
       "      <th></th>\n",
       "      <th>Job Title</th>\n",
       "      <th>Salary Estimate (K)</th>\n",
       "      <th>Job Description</th>\n",
       "      <th>Rating</th>\n",
       "      <th>Company Name</th>\n",
       "      <th>Location</th>\n",
       "      <th>Headquarters</th>\n",
       "      <th>Size</th>\n",
       "      <th>Founded</th>\n",
       "      <th>Type of ownership</th>\n",
       "      <th>Industry</th>\n",
       "      <th>Sector</th>\n",
       "      <th>Revenue</th>\n",
       "      <th>Competitors</th>\n",
       "    </tr>\n",
       "  </thead>\n",
       "  <tbody>\n",
       "    <tr>\n",
       "      <th>0</th>\n",
       "      <td>Sr Data Scientist</td>\n",
       "      <td>137-171</td>\n",
       "      <td>DescriptionThe Senior Data Scientist is respon...</td>\n",
       "      <td>3.1</td>\n",
       "      <td>Healthfirst</td>\n",
       "      <td>New York, NY</td>\n",
       "      <td>New York, NY</td>\n",
       "      <td>1001 to 5000 employees</td>\n",
       "      <td>1993</td>\n",
       "      <td>Nonprofit Organization</td>\n",
       "      <td>Insurance Carriers</td>\n",
       "      <td>Insurance</td>\n",
       "      <td>Unknown / Non-Applicable</td>\n",
       "      <td>EmblemHealth, UnitedHealth Group, Aetna</td>\n",
       "    </tr>\n",
       "    <tr>\n",
       "      <th>1</th>\n",
       "      <td>Data Scientist</td>\n",
       "      <td>137-171</td>\n",
       "      <td>Secure our Nation, Ignite your FutureJoin the ...</td>\n",
       "      <td>4.2</td>\n",
       "      <td>ManTech</td>\n",
       "      <td>Chantilly, VA</td>\n",
       "      <td>Herndon, VA</td>\n",
       "      <td>5001 to 10000 employees</td>\n",
       "      <td>1968</td>\n",
       "      <td>Company - Public</td>\n",
       "      <td>Research &amp; Development</td>\n",
       "      <td>Business Services</td>\n",
       "      <td>$1 to $2 billion (USD)</td>\n",
       "      <td>-1</td>\n",
       "    </tr>\n",
       "    <tr>\n",
       "      <th>2</th>\n",
       "      <td>Data Scientist</td>\n",
       "      <td>137-171</td>\n",
       "      <td>OverviewAnalysis Group is one of the largest i...</td>\n",
       "      <td>3.8</td>\n",
       "      <td>Analysis Group</td>\n",
       "      <td>Boston, MA</td>\n",
       "      <td>Boston, MA</td>\n",
       "      <td>1001 to 5000 employees</td>\n",
       "      <td>1981</td>\n",
       "      <td>Private Practice / Firm</td>\n",
       "      <td>Consulting</td>\n",
       "      <td>Business Services</td>\n",
       "      <td>$100 to $500 million (USD)</td>\n",
       "      <td>-1</td>\n",
       "    </tr>\n",
       "    <tr>\n",
       "      <th>3</th>\n",
       "      <td>Data Scientist</td>\n",
       "      <td>137-171</td>\n",
       "      <td>JOB DESCRIPTION:Do you have a passion for Data...</td>\n",
       "      <td>3.5</td>\n",
       "      <td>INFICON</td>\n",
       "      <td>Newton, MA</td>\n",
       "      <td>Bad Ragaz, Switzerland</td>\n",
       "      <td>501 to 1000 employees</td>\n",
       "      <td>2000</td>\n",
       "      <td>Company - Public</td>\n",
       "      <td>Electrical &amp; Electronic Manufacturing</td>\n",
       "      <td>Manufacturing</td>\n",
       "      <td>$100 to $500 million (USD)</td>\n",
       "      <td>MKS Instruments, Pfeiffer Vacuum, Agilent Tech...</td>\n",
       "    </tr>\n",
       "    <tr>\n",
       "      <th>4</th>\n",
       "      <td>Data Scientist</td>\n",
       "      <td>137-171</td>\n",
       "      <td>Data ScientistAffinity Solutions / Marketing C...</td>\n",
       "      <td>2.9</td>\n",
       "      <td>Affinity Solutions</td>\n",
       "      <td>New York, NY</td>\n",
       "      <td>New York, NY</td>\n",
       "      <td>51 to 200 employees</td>\n",
       "      <td>1998</td>\n",
       "      <td>Company - Private</td>\n",
       "      <td>Advertising &amp; Marketing</td>\n",
       "      <td>Business Services</td>\n",
       "      <td>Unknown / Non-Applicable</td>\n",
       "      <td>Commerce Signals, Cardlytics, Yodlee</td>\n",
       "    </tr>\n",
       "    <tr>\n",
       "      <th>5</th>\n",
       "      <td>Data Scientist</td>\n",
       "      <td>137-171</td>\n",
       "      <td>About Us:Headquartered in beautiful Santa Barb...</td>\n",
       "      <td>4.2</td>\n",
       "      <td>HG Insights</td>\n",
       "      <td>Santa Barbara, CA</td>\n",
       "      <td>Santa Barbara, CA</td>\n",
       "      <td>51 to 200 employees</td>\n",
       "      <td>2010</td>\n",
       "      <td>Company - Private</td>\n",
       "      <td>Computer Hardware &amp; Software</td>\n",
       "      <td>Information Technology</td>\n",
       "      <td>Unknown / Non-Applicable</td>\n",
       "      <td>-1</td>\n",
       "    </tr>\n",
       "    <tr>\n",
       "      <th>6</th>\n",
       "      <td>Data Scientist / Machine Learning Expert</td>\n",
       "      <td>137-171</td>\n",
       "      <td>Posting TitleData Scientist / Machine Learning...</td>\n",
       "      <td>3.9</td>\n",
       "      <td>Novartis</td>\n",
       "      <td>Cambridge, MA</td>\n",
       "      <td>Basel, Switzerland</td>\n",
       "      <td>10000+ employees</td>\n",
       "      <td>1996</td>\n",
       "      <td>Company - Public</td>\n",
       "      <td>Biotech &amp; Pharmaceuticals</td>\n",
       "      <td>Biotech &amp; Pharmaceuticals</td>\n",
       "      <td>$10+ billion (USD)</td>\n",
       "      <td>-1</td>\n",
       "    </tr>\n",
       "    <tr>\n",
       "      <th>7</th>\n",
       "      <td>Data Scientist</td>\n",
       "      <td>137-171</td>\n",
       "      <td>IntroductionHave you always wanted to run expe...</td>\n",
       "      <td>3.5</td>\n",
       "      <td>iRobot</td>\n",
       "      <td>Bedford, MA</td>\n",
       "      <td>Bedford, MA</td>\n",
       "      <td>1001 to 5000 employees</td>\n",
       "      <td>1990</td>\n",
       "      <td>Company - Public</td>\n",
       "      <td>Consumer Electronics &amp; Appliances Stores</td>\n",
       "      <td>Retail</td>\n",
       "      <td>$1 to $2 billion (USD)</td>\n",
       "      <td>-1</td>\n",
       "    </tr>\n",
       "    <tr>\n",
       "      <th>8</th>\n",
       "      <td>Staff Data Scientist - Analytics</td>\n",
       "      <td>137-171</td>\n",
       "      <td>Intuit is seeking a Staff Data Scientist to co...</td>\n",
       "      <td>4.4</td>\n",
       "      <td>Intuit - Data</td>\n",
       "      <td>San Diego, CA</td>\n",
       "      <td>Mountain View, CA</td>\n",
       "      <td>5001 to 10000 employees</td>\n",
       "      <td>1983</td>\n",
       "      <td>Company - Public</td>\n",
       "      <td>Computer Hardware &amp; Software</td>\n",
       "      <td>Information Technology</td>\n",
       "      <td>$2 to $5 billion (USD)</td>\n",
       "      <td>Square, PayPal, H&amp;R Block</td>\n",
       "    </tr>\n",
       "    <tr>\n",
       "      <th>9</th>\n",
       "      <td>Data Scientist</td>\n",
       "      <td>137-171</td>\n",
       "      <td>Ready to write the best chapter of your career...</td>\n",
       "      <td>3.6</td>\n",
       "      <td>XSELL Technologies</td>\n",
       "      <td>Chicago, IL</td>\n",
       "      <td>Chicago, IL</td>\n",
       "      <td>51 to 200 employees</td>\n",
       "      <td>2014</td>\n",
       "      <td>Company - Private</td>\n",
       "      <td>Enterprise Software &amp; Network Solutions</td>\n",
       "      <td>Information Technology</td>\n",
       "      <td>Unknown / Non-Applicable</td>\n",
       "      <td>-1</td>\n",
       "    </tr>\n",
       "  </tbody>\n",
       "</table>\n",
       "</div>"
      ],
      "text/plain": [
       "                                  Job Title Salary Estimate (K)  \\\n",
       "0                         Sr Data Scientist             137-171   \n",
       "1                            Data Scientist             137-171   \n",
       "2                            Data Scientist             137-171   \n",
       "3                            Data Scientist             137-171   \n",
       "4                            Data Scientist             137-171   \n",
       "5                            Data Scientist             137-171   \n",
       "6  Data Scientist / Machine Learning Expert             137-171   \n",
       "7                            Data Scientist             137-171   \n",
       "8          Staff Data Scientist - Analytics             137-171   \n",
       "9                            Data Scientist             137-171   \n",
       "\n",
       "                                     Job Description  Rating  \\\n",
       "0  DescriptionThe Senior Data Scientist is respon...     3.1   \n",
       "1  Secure our Nation, Ignite your FutureJoin the ...     4.2   \n",
       "2  OverviewAnalysis Group is one of the largest i...     3.8   \n",
       "3  JOB DESCRIPTION:Do you have a passion for Data...     3.5   \n",
       "4  Data ScientistAffinity Solutions / Marketing C...     2.9   \n",
       "5  About Us:Headquartered in beautiful Santa Barb...     4.2   \n",
       "6  Posting TitleData Scientist / Machine Learning...     3.9   \n",
       "7  IntroductionHave you always wanted to run expe...     3.5   \n",
       "8  Intuit is seeking a Staff Data Scientist to co...     4.4   \n",
       "9  Ready to write the best chapter of your career...     3.6   \n",
       "\n",
       "         Company Name           Location            Headquarters  \\\n",
       "0         Healthfirst       New York, NY            New York, NY   \n",
       "1             ManTech      Chantilly, VA             Herndon, VA   \n",
       "2      Analysis Group         Boston, MA              Boston, MA   \n",
       "3             INFICON         Newton, MA  Bad Ragaz, Switzerland   \n",
       "4  Affinity Solutions       New York, NY            New York, NY   \n",
       "5         HG Insights  Santa Barbara, CA       Santa Barbara, CA   \n",
       "6            Novartis      Cambridge, MA      Basel, Switzerland   \n",
       "7              iRobot        Bedford, MA             Bedford, MA   \n",
       "8       Intuit - Data      San Diego, CA       Mountain View, CA   \n",
       "9  XSELL Technologies        Chicago, IL             Chicago, IL   \n",
       "\n",
       "                      Size  Founded        Type of ownership  \\\n",
       "0   1001 to 5000 employees     1993   Nonprofit Organization   \n",
       "1  5001 to 10000 employees     1968         Company - Public   \n",
       "2   1001 to 5000 employees     1981  Private Practice / Firm   \n",
       "3    501 to 1000 employees     2000         Company - Public   \n",
       "4      51 to 200 employees     1998        Company - Private   \n",
       "5      51 to 200 employees     2010        Company - Private   \n",
       "6         10000+ employees     1996         Company - Public   \n",
       "7   1001 to 5000 employees     1990         Company - Public   \n",
       "8  5001 to 10000 employees     1983         Company - Public   \n",
       "9      51 to 200 employees     2014        Company - Private   \n",
       "\n",
       "                                   Industry                     Sector  \\\n",
       "0                        Insurance Carriers                  Insurance   \n",
       "1                    Research & Development          Business Services   \n",
       "2                                Consulting          Business Services   \n",
       "3     Electrical & Electronic Manufacturing              Manufacturing   \n",
       "4                   Advertising & Marketing          Business Services   \n",
       "5              Computer Hardware & Software     Information Technology   \n",
       "6                 Biotech & Pharmaceuticals  Biotech & Pharmaceuticals   \n",
       "7  Consumer Electronics & Appliances Stores                     Retail   \n",
       "8              Computer Hardware & Software     Information Technology   \n",
       "9   Enterprise Software & Network Solutions     Information Technology   \n",
       "\n",
       "                      Revenue  \\\n",
       "0    Unknown / Non-Applicable   \n",
       "1      $1 to $2 billion (USD)   \n",
       "2  $100 to $500 million (USD)   \n",
       "3  $100 to $500 million (USD)   \n",
       "4    Unknown / Non-Applicable   \n",
       "5    Unknown / Non-Applicable   \n",
       "6          $10+ billion (USD)   \n",
       "7      $1 to $2 billion (USD)   \n",
       "8      $2 to $5 billion (USD)   \n",
       "9    Unknown / Non-Applicable   \n",
       "\n",
       "                                         Competitors  \n",
       "0            EmblemHealth, UnitedHealth Group, Aetna  \n",
       "1                                                 -1  \n",
       "2                                                 -1  \n",
       "3  MKS Instruments, Pfeiffer Vacuum, Agilent Tech...  \n",
       "4               Commerce Signals, Cardlytics, Yodlee  \n",
       "5                                                 -1  \n",
       "6                                                 -1  \n",
       "7                                                 -1  \n",
       "8                          Square, PayPal, H&R Block  \n",
       "9                                                 -1  "
      ]
     },
     "execution_count": 31,
     "metadata": {},
     "output_type": "execute_result"
    }
   ],
   "source": [
    "df.head(10)"
   ]
  },
  {
   "cell_type": "code",
   "execution_count": 5,
   "id": "f9cc1171-c9cd-43b5-b5ea-91b5a2910d86",
   "metadata": {
    "tags": []
   },
   "outputs": [
    {
     "data": {
      "text/html": [
       "<div>\n",
       "<style scoped>\n",
       "    .dataframe tbody tr th:only-of-type {\n",
       "        vertical-align: middle;\n",
       "    }\n",
       "\n",
       "    .dataframe tbody tr th {\n",
       "        vertical-align: top;\n",
       "    }\n",
       "\n",
       "    .dataframe thead th {\n",
       "        text-align: right;\n",
       "    }\n",
       "</style>\n",
       "<table border=\"1\" class=\"dataframe\">\n",
       "  <thead>\n",
       "    <tr style=\"text-align: right;\">\n",
       "      <th></th>\n",
       "      <th>index</th>\n",
       "      <th>Rating</th>\n",
       "      <th>Founded</th>\n",
       "    </tr>\n",
       "  </thead>\n",
       "  <tbody>\n",
       "    <tr>\n",
       "      <th>count</th>\n",
       "      <td>672.000000</td>\n",
       "      <td>672.000000</td>\n",
       "      <td>672.000000</td>\n",
       "    </tr>\n",
       "    <tr>\n",
       "      <th>mean</th>\n",
       "      <td>335.500000</td>\n",
       "      <td>3.518601</td>\n",
       "      <td>1635.529762</td>\n",
       "    </tr>\n",
       "    <tr>\n",
       "      <th>std</th>\n",
       "      <td>194.133974</td>\n",
       "      <td>1.410329</td>\n",
       "      <td>756.746640</td>\n",
       "    </tr>\n",
       "    <tr>\n",
       "      <th>min</th>\n",
       "      <td>0.000000</td>\n",
       "      <td>-1.000000</td>\n",
       "      <td>-1.000000</td>\n",
       "    </tr>\n",
       "    <tr>\n",
       "      <th>25%</th>\n",
       "      <td>167.750000</td>\n",
       "      <td>3.300000</td>\n",
       "      <td>1917.750000</td>\n",
       "    </tr>\n",
       "    <tr>\n",
       "      <th>50%</th>\n",
       "      <td>335.500000</td>\n",
       "      <td>3.800000</td>\n",
       "      <td>1995.000000</td>\n",
       "    </tr>\n",
       "    <tr>\n",
       "      <th>75%</th>\n",
       "      <td>503.250000</td>\n",
       "      <td>4.300000</td>\n",
       "      <td>2009.000000</td>\n",
       "    </tr>\n",
       "    <tr>\n",
       "      <th>max</th>\n",
       "      <td>671.000000</td>\n",
       "      <td>5.000000</td>\n",
       "      <td>2019.000000</td>\n",
       "    </tr>\n",
       "  </tbody>\n",
       "</table>\n",
       "</div>"
      ],
      "text/plain": [
       "            index      Rating      Founded\n",
       "count  672.000000  672.000000   672.000000\n",
       "mean   335.500000    3.518601  1635.529762\n",
       "std    194.133974    1.410329   756.746640\n",
       "min      0.000000   -1.000000    -1.000000\n",
       "25%    167.750000    3.300000  1917.750000\n",
       "50%    335.500000    3.800000  1995.000000\n",
       "75%    503.250000    4.300000  2009.000000\n",
       "max    671.000000    5.000000  2019.000000"
      ]
     },
     "execution_count": 5,
     "metadata": {},
     "output_type": "execute_result"
    }
   ],
   "source": [
    "df.describe()"
   ]
  },
  {
   "cell_type": "code",
   "execution_count": 14,
   "id": "f18b3ae5-2037-4d9f-ac13-9a3bf047abd3",
   "metadata": {
    "tags": []
   },
   "outputs": [
    {
     "data": {
      "text/plain": [
       "index                  0\n",
       "Job Title              0\n",
       "Salary Estimate (K)    0\n",
       "Job Description        0\n",
       "Rating                 0\n",
       "Company Name           0\n",
       "Location               0\n",
       "Headquarters           0\n",
       "Size                   0\n",
       "Founded                0\n",
       "Type of ownership      0\n",
       "Industry               0\n",
       "Sector                 0\n",
       "Revenue                0\n",
       "Competitors            0\n",
       "dtype: int64"
      ]
     },
     "execution_count": 14,
     "metadata": {},
     "output_type": "execute_result"
    }
   ],
   "source": [
    "# checking for any missing values in all the columns\n",
    "df.isnull().sum()"
   ]
  },
  {
   "cell_type": "markdown",
   "id": "63571f33-c669-4434-b12e-873617961616",
   "metadata": {},
   "source": [
    "Transforming the data in the Salary estimate column."
   ]
  },
  {
   "cell_type": "code",
   "execution_count": 7,
   "id": "55d1a885-3bd1-479f-9516-41ca222333d0",
   "metadata": {
    "tags": []
   },
   "outputs": [
    {
     "data": {
      "text/plain": [
       "array(['$137K-$171K (Glassdoor est.)', '$75K-$131K (Glassdoor est.)',\n",
       "       '$79K-$131K (Glassdoor est.)', '$99K-$132K (Glassdoor est.)',\n",
       "       '$90K-$109K (Glassdoor est.)', '$101K-$165K (Glassdoor est.)',\n",
       "       '$56K-$97K (Glassdoor est.)', '$79K-$106K (Glassdoor est.)',\n",
       "       '$71K-$123K (Glassdoor est.)', '$90K-$124K (Glassdoor est.)',\n",
       "       '$91K-$150K (Glassdoor est.)', '$141K-$225K (Glassdoor est.)',\n",
       "       '$145K-$225K(Employer est.)', '$79K-$147K (Glassdoor est.)',\n",
       "       '$122K-$146K (Glassdoor est.)', '$112K-$116K (Glassdoor est.)',\n",
       "       '$110K-$163K (Glassdoor est.)', '$124K-$198K (Glassdoor est.)',\n",
       "       '$79K-$133K (Glassdoor est.)', '$69K-$116K (Glassdoor est.)',\n",
       "       '$31K-$56K (Glassdoor est.)', '$95K-$119K (Glassdoor est.)',\n",
       "       '$212K-$331K (Glassdoor est.)', '$66K-$112K (Glassdoor est.)',\n",
       "       '$128K-$201K (Glassdoor est.)', '$138K-$158K (Glassdoor est.)',\n",
       "       '$80K-$132K (Glassdoor est.)', '$87K-$141K (Glassdoor est.)',\n",
       "       '$92K-$155K (Glassdoor est.)', '$105K-$167K (Glassdoor est.)'],\n",
       "      dtype=object)"
      ]
     },
     "execution_count": 7,
     "metadata": {},
     "output_type": "execute_result"
    }
   ],
   "source": [
    "df['Salary Estimate'].unique()"
   ]
  },
  {
   "cell_type": "code",
   "execution_count": 10,
   "id": "68205e8b-1977-4a13-8d41-c6d831789394",
   "metadata": {
    "tags": []
   },
   "outputs": [],
   "source": [
    "# replacing $, K, and (Glassdoor est.)\n",
    "df['Salary Estimate'] = df['Salary Estimate'].replace({'\\$' : '', 'K' : '', ' \\(Glassdoor est.\\)' : '', '\\(Employer est.\\)' : ''}, regex = True)"
   ]
  },
  {
   "cell_type": "code",
   "execution_count": 11,
   "id": "aa818ff8-53b5-4c19-9f17-a95df2f618bc",
   "metadata": {
    "tags": []
   },
   "outputs": [
    {
     "data": {
      "text/plain": [
       "array(['137-171', '75-131', '79-131', '99-132', '90-109', '101-165',\n",
       "       '56-97', '79-106', '71-123', '90-124', '91-150', '141-225',\n",
       "       '145-225()', '79-147', '122-146', '112-116', '110-163', '124-198',\n",
       "       '79-133', '69-116', '31-56', '95-119', '212-331', '66-112',\n",
       "       '128-201', '138-158', '80-132', '87-141', '92-155', '105-167'],\n",
       "      dtype=object)"
      ]
     },
     "execution_count": 11,
     "metadata": {},
     "output_type": "execute_result"
    }
   ],
   "source": [
    "df['Salary Estimate'].unique()"
   ]
  },
  {
   "cell_type": "code",
   "execution_count": 13,
   "id": "dddaf3bb-5959-4e9a-b8da-c4c6377d8116",
   "metadata": {
    "tags": []
   },
   "outputs": [],
   "source": [
    "df.rename(columns = {'Salary Estimate' : 'Salary Estimate (K)'}, inplace=True)"
   ]
  },
  {
   "cell_type": "markdown",
   "id": "fdb13081-8dd0-4e23-9002-a90f35d9e66c",
   "metadata": {},
   "source": [
    "Transforming columns with newline characters"
   ]
  },
  {
   "cell_type": "code",
   "execution_count": 27,
   "id": "d14c51f4-4d62-400f-bd81-8968fa0b14c0",
   "metadata": {
    "tags": []
   },
   "outputs": [
    {
     "data": {
      "text/plain": [
       "[]"
      ]
     },
     "execution_count": 27,
     "metadata": {},
     "output_type": "execute_result"
    }
   ],
   "source": [
    "col_with_newlines = []\n",
    "for col in df.columns:\n",
    "    if df[col].astype(str).str.contains('\\n').any():\n",
    "        col_with_newlines.append(col)\n",
    "col_with_newlines"
   ]
  },
  {
   "cell_type": "code",
   "execution_count": 16,
   "id": "e946127d-949c-4fea-85f8-bc95ba546460",
   "metadata": {
    "tags": []
   },
   "outputs": [],
   "source": [
    "df['Company Name'] =df['Company Name'].replace({r'\\n': ''}, regex=True)"
   ]
  },
  {
   "cell_type": "code",
   "execution_count": 20,
   "id": "7a7a25b7-3449-4615-adb7-e5abc392873e",
   "metadata": {
    "tags": []
   },
   "outputs": [
    {
     "data": {
      "text/plain": [
       "0           Healthfirst\n",
       "1               ManTech\n",
       "2        Analysis Group\n",
       "3               INFICON\n",
       "4    Affinity Solutions\n",
       "Name: Company Name, dtype: object"
      ]
     },
     "execution_count": 20,
     "metadata": {},
     "output_type": "execute_result"
    }
   ],
   "source": [
    "df['Company Name'].head()"
   ]
  },
  {
   "cell_type": "code",
   "execution_count": 24,
   "id": "dc19e789-dbc2-424c-8546-80450d9b993c",
   "metadata": {
    "tags": []
   },
   "outputs": [],
   "source": [
    "# remove rating attached to company name \n",
    "# df['Company Name'] = df['Company Name'].str[:-3]"
   ]
  },
  {
   "cell_type": "code",
   "execution_count": 33,
   "id": "092ff2ac-7943-40d5-b7ba-e7e19bada0b2",
   "metadata": {
    "collapsed": true,
    "jupyter": {
     "outputs_hidden": true
    },
    "tags": []
   },
   "outputs": [
    {
     "data": {
      "text/plain": [
       "3.5    58\n",
       "0.0    50\n",
       "4.0    41\n",
       "3.3    41\n",
       "3.9    40\n",
       "3.8    39\n",
       "3.7    38\n",
       "5.0    36\n",
       "4.5    32\n",
       "3.6    31\n",
       "3.4    31\n",
       "4.2    29\n",
       "4.1    25\n",
       "4.4    24\n",
       "4.7    22\n",
       "3.2    21\n",
       "4.8    20\n",
       "4.3    14\n",
       "2.9    14\n",
       "4.6    12\n",
       "3.1    12\n",
       "4.9    11\n",
       "2.7    10\n",
       "3.0     7\n",
       "2.6     4\n",
       "2.8     3\n",
       "2.5     2\n",
       "2.2     1\n",
       "2.4     1\n",
       "2.3     1\n",
       "2.1     1\n",
       "2.0     1\n",
       "Name: Rating, dtype: int64"
      ]
     },
     "execution_count": 33,
     "metadata": {},
     "output_type": "execute_result"
    }
   ],
   "source": [
    "df['Rating'].value_counts()"
   ]
  },
  {
   "cell_type": "code",
   "execution_count": 32,
   "id": "2f2054fc-a048-40c9-a771-15f107cdfed5",
   "metadata": {
    "tags": []
   },
   "outputs": [],
   "source": [
    "df['Rating'] = df['Rating'].apply(lambda x: 0 if x<0 else x)"
   ]
  },
  {
   "cell_type": "code",
   "execution_count": 26,
   "id": "bd7f8ba2-4f5f-4bfc-9820-cffdf7181fc1",
   "metadata": {
    "tags": []
   },
   "outputs": [],
   "source": [
    "df['Job Description'] = df['Job Description'].replace({r'\\n' : ''}, regex=True)"
   ]
  },
  {
   "cell_type": "code",
   "execution_count": 30,
   "id": "65c0a5d1-94b6-436a-9ee6-73b70ce87290",
   "metadata": {
    "tags": []
   },
   "outputs": [],
   "source": [
    "df.drop(['index'], axis = 1, inplace=True)"
   ]
  },
  {
   "cell_type": "code",
   "execution_count": null,
   "id": "ee483652-4a92-4894-996e-34d4b25b8263",
   "metadata": {},
   "outputs": [],
   "source": []
  }
 ],
 "metadata": {
  "kernelspec": {
   "display_name": "Python 3 (ipykernel)",
   "language": "python",
   "name": "python3"
  },
  "language_info": {
   "codemirror_mode": {
    "name": "ipython",
    "version": 3
   },
   "file_extension": ".py",
   "mimetype": "text/x-python",
   "name": "python",
   "nbconvert_exporter": "python",
   "pygments_lexer": "ipython3",
   "version": "3.11.3"
  }
 },
 "nbformat": 4,
 "nbformat_minor": 5
}
